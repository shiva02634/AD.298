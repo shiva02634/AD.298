{
 "cells": [
  {
   "cell_type": "code",
   "execution_count": 1,
   "id": "5a0263ab-2d6a-4531-80c0-ed5bb7f84bb5",
   "metadata": {},
   "outputs": [],
   "source": [
    "import pandas as pd\n",
    "import numpy as np\n",
    "import seaborn as sns\n",
    "\n",
    "import warnings\n",
    "warnings.filterwarnings('ignore')"
   ]
  },
  {
   "cell_type": "code",
   "execution_count": 2,
   "id": "d8b63e33-9fa8-4e58-a17b-b471989e85b4",
   "metadata": {},
   "outputs": [
    {
     "ename": "SyntaxError",
     "evalue": "unterminated string literal (detected at line 1) (1228323988.py, line 1)",
     "output_type": "error",
     "traceback": [
      "\u001b[1;36m  Cell \u001b[1;32mIn[2], line 1\u001b[1;36m\u001b[0m\n\u001b[1;33m    data = pd.read_csv(r'C:\\Users\\GT-0495\\OneDrive\\Dpocuments\\1.Data Science\\3. Presentation\\Day 13 Linear Regrssin\\Data Sets)\u001b[0m\n\u001b[1;37m                       ^\u001b[0m\n\u001b[1;31mSyntaxError\u001b[0m\u001b[1;31m:\u001b[0m unterminated string literal (detected at line 1)\n"
     ]
    }
   ],
   "source": [
    "data = pd.read_csv(\n",
    "data_head()"
   ]
  },
  {
   "cell_type": "code",
   "execution_count": 3,
   "id": "147972cc-9688-4f4f-9553-edb530e6afe8",
   "metadata": {},
   "outputs": [
    {
     "ename": "NameError",
     "evalue": "name 'data' is not defined",
     "output_type": "error",
     "traceback": [
      "\u001b[1;31m---------------------------------------------------------------------------\u001b[0m",
      "\u001b[1;31mNameError\u001b[0m                                 Traceback (most recent call last)",
      "Cell \u001b[1;32mIn[3], line 1\u001b[0m\n\u001b[1;32m----> 1\u001b[0m data\u001b[38;5;241m.\u001b[39mshape\n",
      "\u001b[1;31mNameError\u001b[0m: name 'data' is not defined"
     ]
    }
   ],
   "source": [
    "data.shape"
   ]
  },
  {
   "cell_type": "code",
   "execution_count": null,
   "id": "f1b23961-40da-4ff6-ad89-3c73a42c56f8",
   "metadata": {},
   "outputs": [],
   "source": [
    "data.info()"
   ]
  },
  {
   "cell_type": "code",
   "execution_count": null,
   "id": "9093bef3-b6a6-442b-b072-3c42fb1975d4",
   "metadata": {},
   "outputs": [],
   "source": [
    "data.isna().sum()"
   ]
  },
  {
   "cell_type": "code",
   "execution_count": null,
   "id": "09f53ec2-184d-4657-95cd-abb0da55c7fe",
   "metadata": {},
   "outputs": [],
   "source": [
    "data.head(10)"
   ]
  },
  {
   "cell_type": "code",
   "execution_count": null,
   "id": "cc85f560-5aed-4180-a753-650f97cf4a33",
   "metadata": {},
   "outputs": [],
   "source": [
    "data.drop('Newspaper',axis=1).corr()"
   ]
  },
  {
   "cell_type": "code",
   "execution_count": null,
   "id": "ba46a3e8-d5c8-4791-9666-92574b9f30df",
   "metadata": {},
   "outputs": [],
   "source": [
    "sns.displot(data['daily'])"
   ]
  },
  {
   "cell_type": "code",
   "execution_count": null,
   "id": "15322e12-9a17-4fb9-b6e2-4acf913c2833",
   "metadata": {},
   "outputs": [],
   "source": [
    "sns.displot(data['sunday'])"
   ]
  },
  {
   "cell_type": "code",
   "execution_count": null,
   "id": "49eba601-8279-47f0-861c-ae4b841b3f1c",
   "metadata": {},
   "outputs": [],
   "source": [
    "import statsmodels.formula.api as smf\n",
    "model = smf.ols(\"sunday~daily\",data = data).fit()"
   ]
  },
  {
   "cell_type": "code",
   "execution_count": null,
   "id": "3c7de1fb-19eb-48b3-a14b-02c0613cd57e",
   "metadata": {},
   "outputs": [],
   "source": [
    "sns.regplot(x=\"daily\", y=\"sunday\",data=data,ci=None);"
   ]
  },
  {
   "cell_type": "code",
   "execution_count": null,
   "id": "e3047522-93b8-44a7-a977-2a511b23547d",
   "metadata": {},
   "outputs": [],
   "source": []
  },
  {
   "cell_type": "code",
   "execution_count": null,
   "id": "2305d4b1-5541-4697-b2cd-a2c65d297502",
   "metadata": {},
   "outputs": [],
   "source": []
  }
 ],
 "metadata": {
  "kernelspec": {
   "display_name": "Python 3 (ipykernel)",
   "language": "python",
   "name": "python3"
  },
  "language_info": {
   "codemirror_mode": {
    "name": "ipython",
    "version": 3
   },
   "file_extension": ".py",
   "mimetype": "text/x-python",
   "name": "python",
   "nbconvert_exporter": "python",
   "pygments_lexer": "ipython3",
   "version": "3.12.7"
  }
 },
 "nbformat": 4,
 "nbformat_minor": 5
}
